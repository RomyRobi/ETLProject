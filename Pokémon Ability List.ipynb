{
 "cells": [
  {
   "cell_type": "code",
   "execution_count": 1,
   "metadata": {},
   "outputs": [],
   "source": [
    "import pandas as pd\n",
    "import os\n",
    "from bs4 import BeautifulSoup\n",
    "import requests"
   ]
  },
  {
   "cell_type": "code",
   "execution_count": 7,
   "metadata": {},
   "outputs": [],
   "source": [
    "url = \"https://bulbapedia.bulbagarden.net/wiki/List_of_Pokémon_by_Ability\""
   ]
  },
  {
   "cell_type": "code",
   "execution_count": 11,
   "metadata": {},
   "outputs": [],
   "source": [
    "#header = {\n",
    "#  \"User-Agent\": \"Mozilla/5.0 (X11; Linux x86_64) AppleWebKit/537.36 (KHTML, like Gecko) Chrome/50.0.2661.75 Safari/537.36\",\n",
    "#  \"X-Requested-With\": \"XMLHttpRequest\"\n",
    "#}\n",
    "response=requests.get(url)\n",
    "soup=BeautifulSoup(response.text,'html.parser')"
   ]
  },
  {
   "cell_type": "code",
   "execution_count": 12,
   "metadata": {},
   "outputs": [],
   "source": [
    "ability_list = soup.find_all('table')[1:7]"
   ]
  },
  {
   "cell_type": "code",
   "execution_count": 13,
   "metadata": {},
   "outputs": [
    {
     "data": {
      "text/plain": [
       "[       0   1                 2              3                4             5\n",
       " 0      # NaN           Pokémon      Ability 1        Ability 2        Hidden\n",
       " 1    001 NaN         Bulbasaur       Overgrow              NaN   Chlorophyll\n",
       " 2    002 NaN           Ivysaur       Overgrow              NaN   Chlorophyll\n",
       " 3    003 NaN          Venusaur       Overgrow              NaN   Chlorophyll\n",
       " 4    003 NaN     Mega Venusaur      Thick Fat              NaN           NaN\n",
       " 5    004 NaN        Charmander          Blaze              NaN   Solar Power\n",
       " 6    005 NaN        Charmeleon          Blaze              NaN   Solar Power\n",
       " 7    006 NaN         Charizard          Blaze              NaN   Solar Power\n",
       " 8    006 NaN  Mega Charizard X    Tough Claws              NaN           NaN\n",
       " 9    006 NaN  Mega Charizard Y        Drought              NaN           NaN\n",
       " 10   007 NaN          Squirtle        Torrent              NaN     Rain Dish\n",
       " 11   008 NaN         Wartortle        Torrent              NaN     Rain Dish\n",
       " 12   009 NaN         Blastoise        Torrent              NaN     Rain Dish\n",
       " 13   009 NaN    Mega Blastoise  Mega Launcher              NaN           NaN\n",
       " 14   010 NaN          Caterpie    Shield Dust              NaN      Run Away\n",
       " 15   011 NaN           Metapod      Shed Skin              NaN           NaN\n",
       " 16   012 NaN        Butterfree  Compound Eyes              NaN   Tinted Lens\n",
       " 17   013 NaN            Weedle    Shield Dust              NaN      Run Away\n",
       " 18   014 NaN            Kakuna      Shed Skin              NaN           NaN\n",
       " 19   015 NaN          Beedrill          Swarm              NaN        Sniper\n",
       " 20   015 NaN     Mega Beedrill   Adaptability              NaN           NaN\n",
       " 21   016 NaN            Pidgey       Keen Eye  Tangled Feet  *     Big Pecks\n",
       " 22   017 NaN         Pidgeotto       Keen Eye  Tangled Feet  *     Big Pecks\n",
       " 23   018 NaN           Pidgeot       Keen Eye  Tangled Feet  *     Big Pecks\n",
       " 24   018 NaN      Mega Pidgeot       No Guard              NaN           NaN\n",
       " 25   019 NaN           Rattata       Run Away             Guts        Hustle\n",
       " 26   019 NaN    Alolan Rattata       Gluttony           Hustle     Thick Fat\n",
       " 27   020 NaN          Raticate       Run Away             Guts        Hustle\n",
       " 28   020 NaN   Alolan Raticate       Gluttony           Hustle     Thick Fat\n",
       " 29   021 NaN           Spearow       Keen Eye              NaN        Sniper\n",
       " ..   ...  ..               ...            ...              ...           ...\n",
       " 192  133 NaN             Eevee       Run Away  Adaptability  *  Anticipation\n",
       " 193  134 NaN          Vaporeon   Water Absorb              NaN     Hydration\n",
       " 194  135 NaN           Jolteon    Volt Absorb              NaN    Quick Feet\n",
       " 195  136 NaN           Flareon     Flash Fire              NaN          Guts\n",
       " 196  196 NaN            Espeon    Synchronize              NaN  Magic Bounce\n",
       " 197  197 NaN           Umbreon    Synchronize              NaN   Inner Focus\n",
       " 198  470 NaN           Leafeon     Leaf Guard              NaN   Chlorophyll\n",
       " 199  471 NaN           Glaceon     Snow Cloak              NaN      Ice Body\n",
       " 200  700 NaN           Sylveon     Cute Charm              NaN      Pixilate\n",
       " 201  137 NaN           Porygon          Trace      Download  *      Analytic\n",
       " 202  233 NaN          Porygon2          Trace      Download  *      Analytic\n",
       " 203  474 NaN         Porygon-Z   Adaptability         Download      Analytic\n",
       " 204  138 NaN           Omanyte     Swift Swim      Shell Armor    Weak Armor\n",
       " 205  139 NaN           Omastar     Swift Swim      Shell Armor    Weak Armor\n",
       " 206  140 NaN            Kabuto     Swift Swim     Battle Armor    Weak Armor\n",
       " 207  141 NaN          Kabutops     Swift Swim     Battle Armor    Weak Armor\n",
       " 208  142 NaN        Aerodactyl      Rock Head         Pressure       Unnerve\n",
       " 209  142 NaN   Mega Aerodactyl    Tough Claws              NaN           NaN\n",
       " 210  446 NaN          Munchlax         Pickup        Thick Fat      Gluttony\n",
       " 211  143 NaN           Snorlax       Immunity        Thick Fat      Gluttony\n",
       " 212  144 NaN          Articuno       Pressure              NaN    Snow Cloak\n",
       " 213  145 NaN         Zapdos  *       Pressure              NaN     Static  *\n",
       " 214  146 NaN           Moltres       Pressure              NaN    Flame Body\n",
       " 215  147 NaN           Dratini      Shed Skin              NaN  Marvel Scale\n",
       " 216  148 NaN         Dragonair      Shed Skin              NaN  Marvel Scale\n",
       " 217  149 NaN         Dragonite    Inner Focus              NaN    Multiscale\n",
       " 218  150 NaN            Mewtwo       Pressure              NaN       Unnerve\n",
       " 219  150 NaN     Mega Mewtwo X      Steadfast              NaN           NaN\n",
       " 220  150 NaN     Mega Mewtwo Y       Insomnia              NaN           NaN\n",
       " 221  151 NaN               Mew    Synchronize              NaN           NaN\n",
       " \n",
       " [222 rows x 6 columns]]"
      ]
     },
     "execution_count": 13,
     "metadata": {},
     "output_type": "execute_result"
    }
   ],
   "source": [
    "pd.read_html(ability_list[0].prettify())"
   ]
  },
  {
   "cell_type": "code",
   "execution_count": 18,
   "metadata": {},
   "outputs": [
    {
     "data": {
      "text/plain": [
       "[      0   1               2             3              4             5\n",
       " 0     # NaN         Pokémon     Ability 1      Ability 2        Hidden\n",
       " 1   152 NaN       Chikorita      Overgrow            NaN    Leaf Guard\n",
       " 2   153 NaN         Bayleef      Overgrow            NaN    Leaf Guard\n",
       " 3   154 NaN        Meganium      Overgrow            NaN    Leaf Guard\n",
       " 4   155 NaN       Cyndaquil         Blaze            NaN    Flash Fire\n",
       " 5   156 NaN         Quilava         Blaze            NaN    Flash Fire\n",
       " 6   157 NaN      Typhlosion         Blaze            NaN    Flash Fire\n",
       " 7   158 NaN        Totodile       Torrent            NaN   Sheer Force\n",
       " 8   159 NaN        Croconaw       Torrent            NaN   Sheer Force\n",
       " 9   160 NaN      Feraligatr       Torrent            NaN   Sheer Force\n",
       " 10  161 NaN         Sentret      Run Away       Keen Eye         Frisk\n",
       " 11  162 NaN          Furret      Run Away       Keen Eye         Frisk\n",
       " 12  163 NaN        Hoothoot      Insomnia       Keen Eye   Tinted Lens\n",
       " 13  164 NaN         Noctowl      Insomnia       Keen Eye   Tinted Lens\n",
       " 14  165 NaN          Ledyba         Swarm     Early Bird       Rattled\n",
       " 15  166 NaN          Ledian         Swarm     Early Bird     Iron Fist\n",
       " 16  167 NaN        Spinarak         Swarm       Insomnia        Sniper\n",
       " 17  168 NaN         Ariados         Swarm       Insomnia        Sniper\n",
       " 18  170 NaN        Chinchou   Volt Absorb     Illuminate  Water Absorb\n",
       " 19  171 NaN         Lanturn   Volt Absorb     Illuminate  Water Absorb\n",
       " 20  175 NaN          Togepi        Hustle   Serene Grace    Super Luck\n",
       " 21  176 NaN         Togetic        Hustle   Serene Grace    Super Luck\n",
       " 22  468 NaN        Togekiss        Hustle   Serene Grace    Super Luck\n",
       " 23  177 NaN            Natu   Synchronize     Early Bird  Magic Bounce\n",
       " 24  178 NaN            Xatu   Synchronize     Early Bird  Magic Bounce\n",
       " 25  179 NaN          Mareep        Static            NaN          Plus\n",
       " 26  180 NaN         Flaaffy        Static            NaN          Plus\n",
       " 27  181 NaN        Ampharos        Static            NaN          Plus\n",
       " 28  181 NaN   Mega Ampharos  Mold Breaker            NaN           NaN\n",
       " 29  298 NaN         Azurill     Thick Fat     Huge Power    Sap Sipper\n",
       " ..  ...  ..             ...           ...            ...           ...\n",
       " 68  218 NaN          Slugma   Magma Armor     Flame Body    Weak Armor\n",
       " 69  219 NaN        Magcargo   Magma Armor     Flame Body    Weak Armor\n",
       " 70  220 NaN          Swinub     Oblivious  Snow Cloak  *     Thick Fat\n",
       " 71  221 NaN       Piloswine     Oblivious  Snow Cloak  *     Thick Fat\n",
       " 72  473 NaN       Mamoswine     Oblivious     Snow Cloak     Thick Fat\n",
       " 73  222 NaN         Corsola        Hustle   Natural Cure   Regenerator\n",
       " 74  223 NaN        Remoraid        Hustle      Sniper  *         Moody\n",
       " 75  224 NaN       Octillery  Suction Cups      Sniper  *         Moody\n",
       " 76  225 NaN        Delibird  Vital Spirit         Hustle      Insomnia\n",
       " 77  458 NaN         Mantyke    Swift Swim   Water Absorb    Water Veil\n",
       " 78  226 NaN         Mantine    Swift Swim   Water Absorb    Water Veil\n",
       " 79  227 NaN        Skarmory      Keen Eye         Sturdy    Weak Armor\n",
       " 80  228 NaN        Houndour    Early Bird     Flash Fire       Unnerve\n",
       " 81  229 NaN        Houndoom    Early Bird     Flash Fire       Unnerve\n",
       " 82  229 NaN   Mega Houndoom   Solar Power            NaN           NaN\n",
       " 83  231 NaN          Phanpy        Pickup            NaN     Sand Veil\n",
       " 84  232 NaN         Donphan        Sturdy            NaN     Sand Veil\n",
       " 85  234 NaN        Stantler    Intimidate       Frisk  *    Sap Sipper\n",
       " 86  235 NaN        Smeargle     Own Tempo  Technician  *         Moody\n",
       " 87  241 NaN         Miltank     Thick Fat     Scrappy  *    Sap Sipper\n",
       " 88  243 NaN       Raikou  *      Pressure            NaN   Inner Focus\n",
       " 89  244 NaN        Entei  *      Pressure            NaN   Inner Focus\n",
       " 90  245 NaN      Suicune  *      Pressure            NaN   Inner Focus\n",
       " 91  246 NaN        Larvitar          Guts            NaN     Sand Veil\n",
       " 92  247 NaN         Pupitar     Shed Skin            NaN           NaN\n",
       " 93  248 NaN       Tyranitar   Sand Stream            NaN       Unnerve\n",
       " 94  248 NaN  Mega Tyranitar   Sand Stream            NaN           NaN\n",
       " 95  249 NaN           Lugia      Pressure            NaN    Multiscale\n",
       " 96  250 NaN           Ho-Oh      Pressure            NaN   Regenerator\n",
       " 97  251 NaN          Celebi  Natural Cure            NaN           NaN\n",
       " \n",
       " [98 rows x 6 columns]]"
      ]
     },
     "execution_count": 18,
     "metadata": {},
     "output_type": "execute_result"
    }
   ],
   "source": [
    "pd.read_html(ability_list[2].prettify())"
   ]
  },
  {
   "cell_type": "code",
   "execution_count": null,
   "metadata": {},
   "outputs": [],
   "source": []
  }
 ],
 "metadata": {
  "kernelspec": {
   "display_name": "Python 3",
   "language": "python",
   "name": "python3"
  },
  "language_info": {
   "codemirror_mode": {
    "name": "ipython",
    "version": 3
   },
   "file_extension": ".py",
   "mimetype": "text/x-python",
   "name": "python",
   "nbconvert_exporter": "python",
   "pygments_lexer": "ipython3",
   "version": "3.6.5"
  }
 },
 "nbformat": 4,
 "nbformat_minor": 2
}
